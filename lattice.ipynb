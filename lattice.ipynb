{
 "cells": [
  {
   "cell_type": "markdown",
   "id": "d54c47d6",
   "metadata": {},
   "source": [
    "# Téléchargement du ﬁchier CIF du matériau"
   ]
  },
  {
   "cell_type": "code",
   "execution_count": 10,
   "id": "dec5b9fa",
   "metadata": {},
   "outputs": [],
   "source": [
    "from pymatgen.ext.matproj import MPRester\n",
    "\n",
    "with MPRester(\"Igrq5N9t2TZdFvec\") as m:\n",
    "\n",
    "    structure = m.get_structure_by_material_id(\"mp-961706\")"
   ]
  },
  {
   "cell_type": "markdown",
   "id": "5a263832",
   "metadata": {},
   "source": [
    "# Vecteurs de base des réseaux direct et réciproque, type de maille, système cristallin, groupe ponctuel"
   ]
  },
  {
   "cell_type": "code",
   "execution_count": 21,
   "id": "7ccfd6f3",
   "metadata": {},
   "outputs": [
    {
     "name": "stdout",
     "output_type": "stream",
     "text": [
      "Vecteurs de base du réseau direct : \n",
      " a =  [0.       2.949761 2.949761] \n",
      " b =  [2.949761 0.       2.949761] \n",
      " c =  [2.949761 2.949761 0.      ] \n",
      "\n",
      "Vecteurs de base du réseau réciproque : \n",
      " a =  [-1.06503295  1.06503295  1.06503295] \n",
      " b =  [ 1.06503295 -1.06503295  1.06503295] \n",
      " c =  [ 1.06503295  1.06503295 -1.06503295] \n",
      "\n",
      "Type de maille : cubic \n",
      "\n",
      "Système cristallin : cubic \n",
      "\n",
      "Groupe ponctuel : -43m\n"
     ]
    }
   ],
   "source": [
    "from pymatgen.symmetry.analyzer import SpacegroupAnalyzer\n",
    "\n",
    "# Vecteurs de base du réseau direct\n",
    "vecteurs_direct = structure.lattice\n",
    "m_d = vecteurs_direct.matrix\n",
    "print(\"Vecteurs de base du réseau direct : \\n\", \"a = \", m_d[0], \"\\n\", \"b = \", m_d[1], \"\\n\", \"c = \", m_d[2], \"\\n\")\n",
    "\n",
    "# Vecteurs de base du réseau réciproque\n",
    "vecteurs_reciproque = vecteurs_direct.reciprocal_lattice \n",
    "m_r = vecteurs_reciproque.matrix\n",
    "print(\"Vecteurs de base du réseau réciproque : \\n\", \"a = \", m_r[0], \"\\n\", \"b = \", m_r[1], \"\\n\", \"c = \", m_r[2], \"\\n\")\n",
    "\n",
    "# Type de maille\n",
    "s = SpacegroupAnalyzer(structure)\n",
    "maille = s.get_lattice_type()\n",
    "print (\"Type de maille :\", maille, \"\\n\")\n",
    "\n",
    "# Système cristallin\n",
    "syst_cristallin = s.get_crystal_system()\n",
    "print (\"Système cristallin :\", syst_cristallin, \"\\n\")\n",
    "\n",
    "# Groupe ponctuel\n",
    "groupe_ponctuel = s.get_point_group_symbol()\n",
    "print (\"Groupe ponctuel :\", groupe_ponctuel)"
   ]
  }
 ],
 "metadata": {
  "kernelspec": {
   "display_name": "Python 3",
   "language": "python",
   "name": "python3"
  },
  "language_info": {
   "codemirror_mode": {
    "name": "ipython",
    "version": 3
   },
   "file_extension": ".py",
   "mimetype": "text/x-python",
   "name": "python",
   "nbconvert_exporter": "python",
   "pygments_lexer": "ipython3",
   "version": "3.6.8"
  }
 },
 "nbformat": 4,
 "nbformat_minor": 5
}
