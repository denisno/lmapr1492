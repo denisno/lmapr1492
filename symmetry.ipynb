{
 "cells": [
  {
   "cell_type": "markdown",
   "id": "2b7f42e8",
   "metadata": {},
   "source": [
    "# Téléchargement du ﬁchier CIF du matériau"
   ]
  },
  {
   "cell_type": "code",
   "execution_count": 37,
   "id": "36ef50b7",
   "metadata": {},
   "outputs": [],
   "source": [
    "from pymatgen.ext.matproj import MPRester\n",
    "\n",
    "with MPRester(\"Igrq5N9t2TZdFvec\") as m:\n",
    "\n",
    "    structure = m.get_structure_by_material_id(\"mp-961706\")"
   ]
  },
  {
   "cell_type": "markdown",
   "id": "c99f9945",
   "metadata": {},
   "source": [
    "# Etude de l’effet de 3 éléments de symétrie différents chacun pour 1 atome différent"
   ]
  },
  {
   "cell_type": "code",
   "execution_count": 38,
   "id": "e002911a",
   "metadata": {},
   "outputs": [],
   "source": [
    "# Ce code est applicable à tout fichier CIF.\n",
    "# Cependant, les opérations de symétrie et les atomes sur lesquels elles s'appliquent ne seront pas les mêmes.\n",
    "\n",
    "from pymatgen.symmetry.analyzer import SpacegroupAnalyzer\n",
    "from pymatgen.core.operations import SymmOp\n",
    "from jupyter_jsmol.pymatgen import quick_view\n",
    "from pymatgen import Structure\n",
    "from jupyter_jsmol import JsmolView\n",
    "\n",
    "# Création d'un objet SpaceGroupAnalyzer\n",
    "SgA = SpacegroupAnalyzer(structure)\n",
    "\n",
    "# Création d'une structure conventionnelle\n",
    "struct_conv = SgA.get_conventional_standard_structure()\n",
    "\n",
    "# Création d'un nouvel objet SpaceGroupAnalyzer lié à la structure'struct_conv'\n",
    "SgA_conv = SpacegroupAnalyzer(struct_conv)\n",
    "\n",
    "# Obtention de la liste des symétries contenues dans le fichier CIF\n",
    "liste_symetries = SpacegroupAnalyzer(struct_conv).get_symmetry_operations()\n",
    "\n",
    "#Création des sites des atomes du cristal pour pouvoir accéder aux coordonnées de chacun\n",
    "sites = struct_conv.sites"
   ]
  },
  {
   "cell_type": "markdown",
   "id": "87d401b3",
   "metadata": {},
   "source": [
    "# Opération de symétrie n°1"
   ]
  },
  {
   "cell_type": "code",
   "execution_count": 39,
   "id": "b1551e95",
   "metadata": {},
   "outputs": [
    {
     "name": "stdout",
     "output_type": "stream",
     "text": [
      "Dans le cas de la molécule qui m'est attribuée : atome de titane \n",
      "\n",
      "Plan miroir : (x, y, z) -> (z, y, x): \n",
      " Matrice de rotation : \n",
      " [[0. 0. 1.]\n",
      " [0. 1. 0.]\n",
      " [1. 0. 0.]] \n",
      " Vecteur de translation :  [0. 0. 0.] \n",
      "\n",
      "Position de départ de l'atome:  [0.5 0.  0. ] \n",
      "\n",
      "Position de l'atome après l'opération de symétrie :  [0.  0.  0.5] \n",
      "\n"
     ]
    },
    {
     "data": {
      "application/vnd.jupyter.widget-view+json": {
       "model_id": "7ff62641d81f4855bca9d3c97dc27271",
       "version_major": 2,
       "version_minor": 0
      },
      "text/plain": [
       "JsmolView(layout=Layout(align_self='stretch', height='400px'))"
      ]
     },
     "metadata": {},
     "output_type": "display_data"
    }
   ],
   "source": [
    "# On choisit l'opération de symétrie n°13\n",
    "s1 = liste_symetries[13]\n",
    "\n",
    "# Position de l'atome avant la symétrie\n",
    "Ti_1 = sites[0].frac_coords\n",
    "\n",
    "#Position après opération de symétrie\n",
    "Ti_1_postOp = s1.operate(Ti_1)\n",
    "\n",
    "print(\"Dans le cas de la molécule qui m'est attribuée : atome de titane \\n\")\n",
    "print(\"Plan miroir : (x, y, z) -> (z, y, x): \\n\", \"Matrice de rotation : \\n\", s1.rotation_matrix, \"\\n\", \"Vecteur de translation : \", s1.translation_vector, \"\\n\")\n",
    "print(\"Position de départ de l'atome: \", Ti_1, \"\\n\")\n",
    "print(\"Position de l'atome après l'opération de symétrie : \", Ti_1_postOp, \"\\n\")\n",
    "\n",
    "view1 = quick_view(struct_conv)\n",
    "display(view1) \n",
    "view1.script('draw symop 14 {atomno=1}')\n",
    "    "
   ]
  },
  {
   "cell_type": "markdown",
   "id": "3c78ebb4",
   "metadata": {},
   "source": [
    "# Opération de symétrie n°2"
   ]
  },
  {
   "cell_type": "code",
   "execution_count": 40,
   "id": "0850db53",
   "metadata": {},
   "outputs": [
    {
     "name": "stdout",
     "output_type": "stream",
     "text": [
      "Dans le cas de la molécule qui m'est attribuée : atome de silicium \n",
      "\n",
      "Translation : (x, y, z) -> (x, y + 0.5, z + 0.5)\n",
      " Matrice de rotation : \n",
      " [[1. 0. 0.]\n",
      " [0. 1. 0.]\n",
      " [0. 0. 1.]] \n",
      " Vecteur de translation :  [0.  0.5 0.5] \n",
      "\n",
      "Position de départ de l'atome:  [0.  0.5 0.5] \n",
      "\n",
      "Position de l'atome après l'opération de symétrie :  [0. 1. 1.] \n",
      "\n"
     ]
    },
    {
     "data": {
      "application/vnd.jupyter.widget-view+json": {
       "model_id": "8dd14f1f03744a87acde34f648162d31",
       "version_major": 2,
       "version_minor": 0
      },
      "text/plain": [
       "JsmolView(layout=Layout(align_self='stretch', height='400px'))"
      ]
     },
     "metadata": {},
     "output_type": "display_data"
    }
   ],
   "source": [
    "# On choisit l'opération de symétrie n°6\n",
    "s2 = liste_symetries[72]\n",
    "\n",
    "# Position de l'atome avant la symétrie\n",
    "Si_2 = sites[5].frac_coords\n",
    "\n",
    "#Position après opération de symétrie\n",
    "Si_2_postOp = s2.operate(Si_2)\n",
    "\n",
    "print(\"Dans le cas de la molécule qui m'est attribuée : atome de silicium \\n\")\n",
    "print(\"Translation : (x, y, z) -> (x, y + 0.5, z + 0.5)\\n\", \"Matrice de rotation : \\n\", s2.rotation_matrix, \"\\n\", \"Vecteur de translation : \", s2.translation_vector, \"\\n\")\n",
    "print(\"Position de départ de l'atome: \", Si_2, \"\\n\")\n",
    "print(\"Position de l'atome après l'opération de symétrie : \", Si_2_postOp, \"\\n\")\n",
    "\n",
    "view2 = quick_view(struct_conv)\n",
    "display(view2) \n",
    "view2.script('draw symop 73 {atomno=6}')"
   ]
  },
  {
   "cell_type": "markdown",
   "id": "1aaa203e",
   "metadata": {},
   "source": [
    "# Opération de symétrie n°3"
   ]
  },
  {
   "cell_type": "code",
   "execution_count": 41,
   "id": "9f75b2af",
   "metadata": {},
   "outputs": [
    {
     "name": "stdout",
     "output_type": "stream",
     "text": [
      "Dans le cas de la molécule qui m'est attribuée : atome de platine \n",
      "\n",
      "Rotation : (x, y, z) -> (-y, -x, z)\n",
      " Matrice de rotation : \n",
      " [[ 0. -1.  0.]\n",
      " [-1.  0.  0.]\n",
      " [ 0.  0.  1.]] \n",
      " Vecteur de translation :  [0. 0. 0.] \n",
      "\n",
      "Position de départ de l'atome:  [0.75 0.25 0.75] \n",
      "\n",
      "Position de l'atome après l'opération de symétrie :  [-0.25 -0.75  0.75] \n",
      "\n"
     ]
    },
    {
     "data": {
      "application/vnd.jupyter.widget-view+json": {
       "model_id": "cb551a9ef2274b808b574fa0401c563b",
       "version_major": 2,
       "version_minor": 0
      },
      "text/plain": [
       "JsmolView(layout=Layout(align_self='stretch', height='400px'))"
      ]
     },
     "metadata": {},
     "output_type": "display_data"
    }
   ],
   "source": [
    "# On choisit l'opération de symétrie n°4\n",
    "s3 = liste_symetries[7]\n",
    "\n",
    "# Position de l'atome avant la symétrie\n",
    "Pt_3 = sites[10].frac_coords\n",
    "\n",
    "#Position après opération de symétrie\n",
    "Pt_3_postOp = s3.operate(Pt_3)\n",
    "\n",
    "print(\"Dans le cas de la molécule qui m'est attribuée : atome de platine \\n\")\n",
    "print(\"Rotation : (x, y, z) -> (-y, -x, z)\\n\", \"Matrice de rotation : \\n\", s3.rotation_matrix, \"\\n\", \"Vecteur de translation : \", s3.translation_vector, \"\\n\")\n",
    "print(\"Position de départ de l'atome: \", Pt_3, \"\\n\")\n",
    "print(\"Position de l'atome après l'opération de symétrie : \", Pt_3_postOp, \"\\n\")\n",
    "\n",
    "view3 = quick_view(struct_conv)\n",
    "display(view3) \n",
    "view3.script('draw symop 8 {atomno=11}')"
   ]
  }
 ],
 "metadata": {
  "kernelspec": {
   "display_name": "Python 3",
   "language": "python",
   "name": "python3"
  },
  "language_info": {
   "codemirror_mode": {
    "name": "ipython",
    "version": 3
   },
   "file_extension": ".py",
   "mimetype": "text/x-python",
   "name": "python",
   "nbconvert_exporter": "python",
   "pygments_lexer": "ipython3",
   "version": "3.6.8"
  }
 },
 "nbformat": 4,
 "nbformat_minor": 5
}
